{
 "cells": [
  {
   "cell_type": "markdown",
   "metadata": {},
   "source": [
    "# The Normal Distribution\n",
    "\n",
    "## Introduction\n",
    "\n",
    "For data scientists and machine learning professionals, Normal (also referred to as Gaussian) distribution stands out as one of the most commonly used distribution models. This lesson provides an introduction to the normal distribution, its characteristics and its significance in data science. \n",
    "\n",
    "## Objectives\n",
    "You will be able to:\n",
    "\n",
    "* Understand the characteristics of a Gaussian Distribution\n",
    "* Identify examples in the real world that follow a Gaussian distribution\n",
    "* Explain why the Gaussian Distribution is so important to data scientists\n",
    "* How to generate and visualize normal distributions in Python\n",
    "\n",
    "## The Normal Distribution\n",
    "The normal distribution is the most important and most widely used distribution in statistics and data science. It is also called the \"bell curve,\" due to its bell shape, or the \"Gaussian curve\" after the German mathematician Karl Friedrich Gauss.\n",
    "\n",
    "Recall our NYC weather distribution. This is a classic example of a normal distribution. The idea is that there is sort of an expectation around what the temperature will be on June 1 (80 Degrees Fahrenheit), and that temperatures much lower or much higher are less likely the further they move away from this expected temperature. This type of behavior is present in many phenomenons, as you'll see later.\n",
    "\n",
    "![](images/histogram_NYC_weather.png)\n",
    "\n",
    "The normal distribution is **a continuous distribution**. In practice though, you'll see many discrete distributions that follow a bell curve shape:\n",
    "- The observed values are actually discrete. For example, human IQ follows a normal distribution, but IQ is only specified up to the unit digit level, eg an IQ of 90, 91, or 92.\n",
    "- The values in our distribution are actually continuous (eg. our temperature example) but recorded up to a certain constant because there is (obviously) no \"exact\" thermometer that measures temperature up to an infinite amount of digits.\n",
    "\n",
    "Even though the IQ level is not factually recorded as a continuous variable, you'll see that the distribution is generally represented as a smooth curve!\n",
    "\n",
    "\n",
    "<img src=\"images/iq_bell.png\" width = \"650\">\n",
    "\n",
    "\n",
    "\n",
    "## The Probability Density Function\n",
    "\n",
    "The density function equation is given by the following expression:\n",
    "\n",
    "$$ \\large N(x) = \\dfrac{1}{\\sigma \\sqrt {2\\pi }}e^{-\\dfrac{(x-\\mu)^2}{2\\sigma^2}}$$\n",
    "\n",
    "Here, \n",
    "- $\\mu$ is the mean\n",
    "- $\\sigma$ is the standard deviation\n",
    "- $\\pi \\approx 3.14159 $ \n",
    "- $ e \\approx 2.71828 $\n",
    "\n",
    "Don't worry if your head is spinning right now. Don't worry about the formula, what you really need to remember is that:\n",
    "- A normal distribution has 2 key parameters, $\\mu$ and $\\sigma$, which define the mean and the spread of the distribution\n",
    "\n",
    "- If you apply our formulas of expected values and variance seen in the PDF lesson before, where $X \\sim N(x)$:\n",
    "    - $ E(X) = \\int_{- \\infty}^{+ \\infty} p(x)x dx = \\mu $\n",
    "    - $ E((X-\\mu)^2) = \\int_{- \\infty}^{+ \\infty} p(x)(x-\\mu)^2 dx = \\sigma^2$\n",
    "    \n",
    "  where $\\mu$ and $\\sigma$ are as specified in the formula of $N(x)$\n",
    "\n",
    "\n",
    "\n",
    "## Mean and Standard Deviation\n",
    "\n",
    "Here is a first simple definition for normal distributions:\n",
    "\n",
    "> **The Normal Distribution is symmetrical and its mean, median and mode are equal.**\n",
    "\n",
    "A normal distribution is **centered around its mean**, so the distribution is not skewed (you'll learn more about skewness later).  This doesn't mean that normal distributions cannot appear in different shapes and forms. How exactly the distribution behaves depends on the 2 key parameters, as specified before: the **mean** and the **standard deviation**.\n",
    "\n",
    "<img src=\"images/normal_plt.png\" width =\"750\">\n",
    "\n",
    "This figure shows four normal distributions. \n",
    "\n",
    "* The green distribution has a mean of 0 and a standard deviation of 0.4 \n",
    "* The distribution in blue has a mean of 0 and a standard deviation of 1.\n",
    "* The distribution in red has a mean of 0 and a high spread with standard deviation of 3. \n",
    "* The orange distribution has a mean of 2 and a standard deviation of 0.5.\n",
    "\n",
    "All these distributions have the following properties in common:\n",
    "- They are symmetric,\n",
    "- They have relatively higher densities of values at the center of the distribution and relatively lower density in the tails\n",
    "\n",
    "The CDFs of these distributions are shown below:\n",
    "\n",
    "\n",
    "<img src=\"images/cumul_normal_plt.png\" width=\"750\">\n",
    "\n",
    "## Some More Characteristics of the Normal Distribution\n",
    "\n",
    "Let's summarize the key characteristics of the normal distribution below:\n",
    "\n",
    "* Normal distributions are symmetric around their mean\n",
    "* The mean, median, and mode of a normal distribution are equal\n",
    "* The area under the bell curve is equal to 1.0\n",
    "* Normal distributions are denser in the center and less dense in the tails\n",
    "* Normal distributions are defined by two parameters, the mean ($\\mu$) and the standard deviation ($\\sigma$).\n",
    "* Around 68% of the area of a normal distribution is within _one standard deviation_ of the mean \n",
    "($(\\mu-\\sigma)$ to $(\\mu + \\sigma)$)\n",
    "* Approximately 95% of the area of a normal distribution is within two standard deviations of the mean ($(\\mu-2\\sigma)$ to $(\\mu + 2\\sigma)$).\n",
    "\n",
    "\n",
    "Let's look at the image below to get a better sense of the two last statements. In this image, the spread is differentiated between levels of deviation.\n",
    "\n",
    "<img src=\"images/normal_sd_new.png\" width =\"750\">\n",
    "\n",
    "This forms a 68-95-99.7 rule, i.e., 68% values of a normal distribution are within 1 standard deviation of the mean, 95% within 2 standard deviations and 99.7 % within 3 standard deviations. So normally distributed data is considered ideal for analysis due to this simplicity of description. Values in the extreme of tails (more than 3 standard deviations) can be considered \"interesting events\" as their probability of occurrence is very low (1 occurrence in about ~300!). In other cases, you'll consider them as outliers due to noise or error of measurement. It all depends on your analysis question. \n",
    "\n",
    "Keeping this in mind, have another look at the IQ distribution and identify \"extreme events\" in terms of IQ!\n",
    "\n",
    "## Why so popular?\n",
    "\n",
    "In this section, you'll learn about some reasons why normal distributions are so popular among data scientists:\n",
    "\n",
    "### Ubiquitous in Natural Phenomena\n",
    "\n",
    "An amazingly vast number of natural processes naturally follows the Gaussian distribution. A simple normal distribution gives the best model approximation for natural processes like weight, height, blood pressure, etc. Errors committed during some measurements are also found to be normally distributed so they can be modeled and isolated with ease. The income, expenditure and other social attributes of masses are often normally distributed as well.\n",
    "\n",
    "### Central Limit Theorem\n",
    "\n",
    "The Central Limit Theorem states: \n",
    ">When you add **a large number** of independent random variables, irrespective of the original distribution of these variables, **their sum tends towards a Gaussian distribution**.\n",
    "\n",
    "The theorem provides a reason why many natural phenomena follow Gaussian distribution.\n",
    "\n",
    "The key takeaway from central limit theorem is that fact that it allows different distributions to be processed as a normal distribution, even when they do not fulfill normality requirements shown above. We'll discuss this further when we talk about hypothesis testing \n",
    "\n",
    "[Here is an interesting youtube video highlighting this phenomenon](https://www.youtube.com/watch?v=AUSKTk9ENzg) for now. We will consider this in detail later. \n",
    "\n",
    "### Simplified Computation\n",
    "\n",
    "When undergoing transformations, a number of distributions tend to change their nature and may result as a totally new distribution. With normal distributions, we can add random variables, take their product or apply any other advanced transformations like Fourier and Convolution - the resulting distribution will always be normal. \n",
    "\n",
    "For every Gaussian model approximation, there may exist a complex multi-parameter distribution that gives a better approximation than the Normal distribution. Even then a Gaussian is often the preferred distribution to use because it makes the math a lot simpler!\n",
    "\n",
    "## Normal Distributions in Python \n",
    "\n",
    "In Python, the NumPy module provides a ton of methods to generate and inspect random variables. \n",
    "\n",
    "You can generate a random normal distribution by providing its parameters $\\mu$ and $\\sigma$ (mean and sd) to `np.random.norm()`, along with $n$ (number of values to be generated for the normal distribution)."
   ]
  },
  {
   "cell_type": "code",
   "execution_count": 2,
   "metadata": {},
   "outputs": [
    {
     "name": "stderr",
     "output_type": "stream",
     "text": [
      "/opt/conda/envs/learn-env/lib/python3.6/site-packages/scipy/stats/stats.py:1713: FutureWarning: Using a non-tuple sequence for multidimensional indexing is deprecated; use `arr[tuple(seq)]` instead of `arr[seq]`. In the future this will be interpreted as an array index, `arr[np.array(seq)]`, which will result either in an error or a different result.\n",
      "  return np.add.reduce(sorted[indexer] * weights, axis=axis) / sumval\n"
     ]
    },
    {
     "data": {
      "text/plain": [
       "<matplotlib.axes._subplots.AxesSubplot at 0x7f730cc3fcf8>"
      ]
     },
     "execution_count": 2,
     "metadata": {},
     "output_type": "execute_result"
    },
    {
     "data": {
      "image/png": "[encoded data removed]",
      "text/plain": [
       "<Figure size 432x288 with 1 Axes>"
      ]
     },
     "metadata": {
      "needs_background": "light"
     },
     "output_type": "display_data"
    }
   ],
   "source": [
    "import numpy as np\n",
    "import seaborn as sns\n",
    "import matplotlib.pyplot as plt\n",
    "%matplotlib inline\n",
    "\n",
    "mu, sigma = 0.5, 0.1\n",
    "n = 1000\n",
    "s = np.random.normal(mu, sigma, n)\n",
    "sns.distplot(s)\n"
   ]
  },
  {
   "cell_type": "markdown",
   "metadata": {},
   "source": [
    "The density function of a normal distribution can also be plotted using a matplotlib _line plot_ and using the formula given above. You'll try to do this in the next lab.\n",
    "\n",
    "## Summary \n",
    "\n",
    "This lesson provides an introduction to normal distributions, the most common distribution family in the field of statistics and data analysis. You learned about the key characteristics of normal distributions, their density function based on mean and standard deviations, and briefly discussed the reasons behind their ubiquitous nature. "
   ]
  }
 ],
 "metadata": {
  "kernelspec": {
   "display_name": "Python 3",
   "language": "python",
   "name": "python3"
  },
  "language_info": {
   "codemirror_mode": {
    "name": "ipython",
    "version": 3
   },
   "file_extension": ".py",
   "mimetype": "text/x-python",
   "name": "python",
   "nbconvert_exporter": "python",
   "pygments_lexer": "ipython3",
   "version": "3.6.6"
  }
 },
 "nbformat": 4,
 "nbformat_minor": 2
}
